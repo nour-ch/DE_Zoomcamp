{
 "cells": [
  {
   "cell_type": "code",
   "execution_count": 1,
   "id": "eleven-challenge",
   "metadata": {},
   "outputs": [],
   "source": [
    "import pandas as pd\n",
    "import os\n",
    "from sqlalchemy import create_engine\n",
    "from time import time"
   ]
  },
  {
   "cell_type": "code",
   "execution_count": 2,
   "id": "relative-spank",
   "metadata": {},
   "outputs": [],
   "source": [
    "\n",
    "#Code taken from ingest_data.py, ran it locally. Replace variables below with correct parameters\n",
    "user = 'username'\n",
    "password = 'password'\n",
    "host = 'localhost' \n",
    "port = 5432 \n",
    "db = 'ny_taxi'\n",
    "engine = create_engine(f'postgresql://{user}:{password}@{host}:{port}/{db}')\n"
   ]
  },
  {
   "cell_type": "code",
   "execution_count": 3,
   "id": "julian-bryan",
   "metadata": {},
   "outputs": [
    {
     "data": {
      "text/plain": [
       "<sqlalchemy.engine.base.Connection at 0x27f5615eb20>"
      ]
     },
     "execution_count": 3,
     "metadata": {},
     "output_type": "execute_result"
    }
   ],
   "source": [
    "engine.connect()"
   ]
  },
  {
   "cell_type": "code",
   "execution_count": 4,
   "id": "functional-primary",
   "metadata": {},
   "outputs": [
    {
     "name": "stdout",
     "output_type": "stream",
     "text": [
      "green_tripdata: inserted another chunk, took 8.75 second\n",
      "green_tripdata: inserted another chunk, took 8.49 second\n"
     ]
    },
    {
     "name": "stderr",
     "output_type": "stream",
     "text": [
      "c:\\users\\nour chaaban (acb)\\appdata\\local\\programs\\python\\python39\\lib\\site-packages\\IPython\\core\\interactiveshell.py:3165: DtypeWarning: Columns (3) have mixed types.Specify dtype option on import or set low_memory=False.\n",
      "  has_raised = await self.run_ast_nodes(code_ast.body, cell_name,\n"
     ]
    },
    {
     "name": "stdout",
     "output_type": "stream",
     "text": [
      "green_tripdata: inserted another chunk, took 8.58 second\n",
      "green_tripdata: inserted another chunk, took 3.56 second\n",
      "Finished ingesting data into green_tripdata\n",
      "Finished ingesting data into taxi_zone_lookup\n"
     ]
    }
   ],
   "source": [
    "#converted table_name and file_name to dictionary of lists, in order to iterate over multiple arguments\n",
    "\n",
    "file_tablenames = [\n",
    "    {'table_name': 'green_tripdata', \n",
    "     'file_name': 'green_tripdata_2019-09.csv.gz',\n",
    "     #specify columns that are datetime in the CSV\n",
    "     'date_column_names':['lpep_pickup_datetime','lpep_dropoff_datetime']\n",
    "    },\n",
    "    {'table_name': 'taxi_zone_lookup',\n",
    "     'file_name': 'taxi+_zone_lookup.csv'\n",
    "    }\n",
    "]\n",
    "\n",
    "#downloads file from URL given that it is a csv or csv.gz\n",
    "  \n",
    "for file_tablename in file_tablenames:\n",
    "    file_name = file_tablename['file_name']\n",
    "    table_name = file_tablename['table_name']\n",
    "\n",
    "\n",
    "    df_iter = pd.read_csv(file_name, iterator=True, chunksize=100000)\n",
    "\n",
    "    df = next(df_iter)\n",
    "\n",
    "    #ensures columns are datetime if exist\n",
    "    if 'date_column_names' in file_tablename:\n",
    "        for column_name in file_tablename['date_column_names']: \n",
    "            df[column_name] = pd.to_datetime(df[column_name])\n",
    "            \n",
    "    df.head(n=0).to_sql(name=table_name, con=engine, if_exists='replace')\n",
    "\n",
    "    df.to_sql(name=table_name, con=engine, if_exists='append')\n",
    "\n",
    "\n",
    "    while True: \n",
    "        try:\n",
    "            t_start = time()\n",
    "\n",
    "            df = next(df_iter)            \n",
    "\n",
    "            df.to_sql(name=table_name, con=engine, if_exists='append')\n",
    "\n",
    "            t_end = time()\n",
    "\n",
    "            print(f'{table_name}: inserted another chunk, took {(t_end - t_start):.2f} second' )\n",
    "\n",
    "        except StopIteration:\n",
    "            print(f\"Finished ingesting data into {table_name}\")\n",
    "            break\n"
   ]
  }
 ],
 "metadata": {
  "kernelspec": {
   "display_name": "Python 3",
   "language": "python",
   "name": "python3"
  },
  "language_info": {
   "codemirror_mode": {
    "name": "ipython",
    "version": 3
   },
   "file_extension": ".py",
   "mimetype": "text/x-python",
   "name": "python",
   "nbconvert_exporter": "python",
   "pygments_lexer": "ipython3",
   "version": "3.9.5"
  }
 },
 "nbformat": 4,
 "nbformat_minor": 5
}
